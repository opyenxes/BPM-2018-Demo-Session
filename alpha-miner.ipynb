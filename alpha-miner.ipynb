{
 "cells": [
  {
   "cell_type": "markdown",
   "metadata": {},
   "source": [
    "## TL;DR\n",
    "This notebook shows how to discover a petri net model using the alpha miner. "
   ]
  },
  {
   "cell_type": "code",
   "execution_count": 1,
   "metadata": {},
   "outputs": [],
   "source": [
    "# %load /home/jonathan/.ipython/profile_default/startup/01-setup.py\n",
    "# start up settings for jupyter notebook\n",
    "import pandas as pd\n",
    "import numpy as np\n",
    "import matplotlib.pyplot as plt\n",
    "import os, sys\n",
    "\n",
    "plt.style.use('ggplot')\n",
    "plt.rcParams['font.size'] = 15.0\n",
    "plt.rcParams['axes.labelsize'] = 15.0\n",
    "plt.rcParams['xtick.labelsize'] = 15.0\n",
    "plt.rcParams['ytick.labelsize'] = 15.0\n",
    "plt.rcParams['legend.fontsize'] = 15.0\n",
    "\n",
    "%matplotlib inline\n",
    "\n",
    "# set the max column width\n",
    "pd.options.display.max_colwidth = 1000\n",
    "\n",
    "# to avoid have warnings from chained assignments\n",
    "pd.options.mode.chained_assignment = None\n"
   ]
  },
  {
   "cell_type": "code",
   "execution_count": 2,
   "metadata": {},
   "outputs": [],
   "source": [
    "from opyenxes.data_in.XUniversalParser import XUniversalParser\n",
    "from opyenxes.data_out.XesXmlGZIPSerializer import XesXmlGZIPSerializer\n",
    "\n",
    "from podspy.log import factory as fty\n",
    "from podspy.structure import *\n",
    "from podspy.discovery import alpha\n",
    "from podspy.structure import CausalMatrix\n",
    "from podspy.petrinet.nets import *\n",
    "from podspy.petrinet import visualize as vis\n",
    "\n",
    "from IPython.display import Image"
   ]
  },
  {
   "cell_type": "markdown",
   "metadata": {},
   "source": [
    "## Load the event log"
   ]
  },
  {
   "cell_type": "code",
   "execution_count": 3,
   "metadata": {},
   "outputs": [],
   "source": [
    "xlog_fp = './data/small-log.xes.gz'\n",
    "\n",
    "with open(xlog_fp, 'r') as f:\n",
    "    xlog = XUniversalParser().parse(f)[0]\n",
    "\n",
    "lt = fty.XLog2LogTable().xlog2table(xlog)\n",
    "get_activity = lambda val: val[1]\n",
    "lt.event_df['activity'] = lt.event_df['concept:name'].apply(get_activity)"
   ]
  },
  {
   "cell_type": "markdown",
   "metadata": {},
   "source": [
    "## There are four trace variants "
   ]
  },
  {
   "cell_type": "code",
   "execution_count": 4,
   "metadata": {},
   "outputs": [
    {
     "data": {
      "text/html": [
       "<div>\n",
       "<style scoped>\n",
       "    .dataframe tbody tr th:only-of-type {\n",
       "        vertical-align: middle;\n",
       "    }\n",
       "\n",
       "    .dataframe tbody tr th {\n",
       "        vertical-align: top;\n",
       "    }\n",
       "\n",
       "    .dataframe thead th {\n",
       "        text-align: right;\n",
       "    }\n",
       "</style>\n",
       "<table border=\"1\" class=\"dataframe\">\n",
       "  <thead>\n",
       "    <tr style=\"text-align: right;\">\n",
       "      <th></th>\n",
       "      <th>caseid</th>\n",
       "      <th>variant_id</th>\n",
       "      <th>variant</th>\n",
       "    </tr>\n",
       "  </thead>\n",
       "  <tbody>\n",
       "    <tr>\n",
       "      <th>0</th>\n",
       "      <td>0</td>\n",
       "      <td>variant 0</td>\n",
       "      <td>a|c|d</td>\n",
       "    </tr>\n",
       "    <tr>\n",
       "      <th>45</th>\n",
       "      <td>100</td>\n",
       "      <td>variant 1</td>\n",
       "      <td>a|c|e</td>\n",
       "    </tr>\n",
       "    <tr>\n",
       "      <th>83</th>\n",
       "      <td>125</td>\n",
       "      <td>variant 2</td>\n",
       "      <td>b|c|e</td>\n",
       "    </tr>\n",
       "    <tr>\n",
       "      <th>105</th>\n",
       "      <td>45</td>\n",
       "      <td>variant 3</td>\n",
       "      <td>b|c|d</td>\n",
       "    </tr>\n",
       "  </tbody>\n",
       "</table>\n",
       "</div>"
      ],
      "text/plain": [
       "    caseid variant_id variant\n",
       "0        0  variant 0   a|c|d\n",
       "45     100  variant 1   a|c|e\n",
       "83     125  variant 2   b|c|e\n",
       "105     45  variant 3   b|c|d"
      ]
     },
     "execution_count": 4,
     "metadata": {},
     "output_type": "execute_result"
    }
   ],
   "source": [
    "lt.get_trace_variants().drop_duplicates('variant')"
   ]
  },
  {
   "cell_type": "code",
   "execution_count": 5,
   "metadata": {},
   "outputs": [
    {
     "data": {
      "image/png": "[encoded data removed]",
      "text/plain": [
       "<IPython.core.display.Image object>"
      ]
     },
     "execution_count": 5,
     "metadata": {},
     "output_type": "execute_result"
    }
   ],
   "source": [
    "# sort activities\n",
    "cmat = CausalMatrix.build_from_logtable(lt, sort=True)\n",
    "\n",
    "net = alpha.discover(cmat)\n",
    "net_fp = os.path.join('.', 'data', 'alpha.png')\n",
    "G = vis.net2dot(net.net)\n",
    "G.draw(net_fp)\n",
    "Image(net_fp)"
   ]
  }
 ],
 "metadata": {
  "kernelspec": {
   "display_name": "Python (bpm-demo-opyenxes)",
   "language": "python",
   "name": "bpm-demo-opyenxes"
  },
  "language_info": {
   "codemirror_mode": {
    "name": "ipython",
    "version": 3
   },
   "file_extension": ".py",
   "mimetype": "text/x-python",
   "name": "python",
   "nbconvert_exporter": "python",
   "pygments_lexer": "ipython3",
   "version": "3.7.0"
  }
 },
 "nbformat": 4,
 "nbformat_minor": 2
}
